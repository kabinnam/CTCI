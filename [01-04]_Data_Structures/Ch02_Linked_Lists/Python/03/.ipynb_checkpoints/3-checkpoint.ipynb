{
 "cells": [
  {
   "cell_type": "markdown",
   "metadata": {},
   "source": [
    "# Problem 3\n",
    "## Delete Middle Node\n",
    "\n",
    "> Implement an algorithm to delete a node in the middle (i.e., any node but the first and last node,  not necessarily the exact middle) of a singly linked list, given only access to that node.\n",
    "\n",
    "> EXAMPLE\n",
    "\n",
    "> Input: the node c from the linked list a->b->c->d->e->f\n",
    "\n",
    "> Output: nothing is returned,\n",
    "        but the new linked list looks like a->b->d->e->f\n",
    "\n",
    "Hints: #72\n",
    "\n",
    "---\n",
    "\n",
    "Node Class"
   ]
  },
  {
   "cell_type": "code",
   "execution_count": 1,
   "metadata": {},
   "outputs": [],
   "source": [
    "class Node(object):\n",
    "    def __init__(self, value, nextNode = None):\n",
    "        self.value = value\n",
    "        self.nextNode = nextNode"
   ]
  },
  {
   "cell_type": "markdown",
   "metadata": {},
   "source": [
    "**First Implementation**\n",
    "\n",
    "**Space and Runtime Complexity**: **O(N)** Time, **O(1)** Space\n",
    "\n",
    "**Note**: I realize, after reading the book solution, I didn't implement this correctly. The problem suggests that we're given the middle node as input already! I assumed we had to find the middle node and delete it."
   ]
  },
  {
   "cell_type": "code",
   "execution_count": 10,
   "metadata": {},
   "outputs": [],
   "source": [
    "def deleteMiddleNode(inputList):\n",
    "    # Determine length of this linkedlist!\n",
    "    length = 0\n",
    "    cur = inputList\n",
    "    while cur != None:\n",
    "        length += 1\n",
    "        cur = cur.nextNode\n",
    "    \n",
    "    # Return original list, if the length is 2 or less.\n",
    "    # Otherwise, traverse to middle of list, and make the node right before\n",
    "    # skip the middle node. If the length of the list is even, remove the\n",
    "    # left middle node.\n",
    "    if length > 2:\n",
    "        cur = inputList\n",
    "        # The -2 is to make sure we stop at a position \n",
    "        # right before the left middle node of the linkedlist\n",
    "        for _ in range(length//2 - 2):\n",
    "            cur = cur.nextNode\n",
    "\n",
    "        cur.nextNode = cur.nextNode.nextNode\n",
    "    \n",
    "    return inputList "
   ]
  },
  {
   "cell_type": "markdown",
   "metadata": {},
   "source": [
    "**Test Program**"
   ]
  },
  {
   "cell_type": "code",
   "execution_count": 11,
   "metadata": {},
   "outputs": [
    {
     "name": "stderr",
     "output_type": "stream",
     "text": [
      ".\n",
      "----------------------------------------------------------------------\n",
      "Ran 1 test in 0.002s\n",
      "\n",
      "OK\n"
     ]
    }
   ],
   "source": [
    "import unittest\n",
    "\n",
    "class TestIsUniqueMethod(unittest.TestCase):\n",
    "\n",
    "    def test_simple_solution(self):\n",
    "        theList = Node('a', Node('b', Node('c', Node('d', Node('e', Node('f'))))))\n",
    "        newList = Node('a', Node('b', Node('d', Node('e', Node('f')))))\n",
    "        theList = deleteMiddleNode(theList)\n",
    "        \n",
    "        for _ in range(5):\n",
    "            self.assertEqual(theList.value, newList.value)\n",
    "            theList = theList.nextNode\n",
    "            newList = newList.nextNode\n",
    "\n",
    "if __name__ == '__main__':\n",
    "    # Need to add this parameter to the unittest.main function when unittesting in iPython because:\n",
    "    # unittest.main looks at sys.argv and first parameter is what started IPython or Jupyter, \n",
    "    # therefore there'll be an error about kernel connection file not being a valid attribute.\n",
    "    # Passing explicit list to unittest.main will prevent IPython and Jupyter look at sys.argv.\n",
    "    # Passing exit=False will prevent unittest.main from shutting down the kernel process\n",
    "    unittest.main(argv=['first-arg-is-ignored'], exit=False)"
   ]
  },
  {
   "cell_type": "code",
   "execution_count": null,
   "metadata": {},
   "outputs": [],
   "source": []
  }
 ],
 "metadata": {
  "kernelspec": {
   "display_name": "Python 3",
   "language": "python",
   "name": "python3"
  },
  "language_info": {
   "codemirror_mode": {
    "name": "ipython",
    "version": 3
   },
   "file_extension": ".py",
   "mimetype": "text/x-python",
   "name": "python",
   "nbconvert_exporter": "python",
   "pygments_lexer": "ipython3",
   "version": "3.6.4"
  }
 },
 "nbformat": 4,
 "nbformat_minor": 2
}

{
 "cells": [
  {
   "cell_type": "code",
   "execution_count": null,
   "metadata": {},
   "outputs": [],
   "source": [
    "# Partition: Write code to partition a linked list around a value x,\n",
    "# such that all nodes less than x come before all nodes greater than\n",
    "# or equal to x. If x is contained within the list, the values of x \n",
    "# only need to be after the elements less than x (see below). The \n",
    "# partition element x can appear anywhere in the \"right partition\";\n",
    "# it does not need to appear between the left and right partitions.\n",
    "#\n",
    "# EXAMPLE\n",
    "# Input:  3 -> 5 -> 8 -> 5 -> 10 -> 2 -> 1 [partition=5]\n",
    "# Output: 3 -> 1 -> 2 -> 10 -> 5 -> 5 -> 8\n",
    "#\n",
    "# Hints: #3, #24\n",
    "\n",
    "\n"
   ]
  },
  {
   "cell_type": "code",
   "execution_count": null,
   "metadata": {},
   "outputs": [],
   "source": [
    "# Test Program to cover and check as many cases as possible, that would be\n",
    "# reasonable to check within an interview.\n",
    "\n"
   ]
  }
 ],
 "metadata": {
  "kernelspec": {
   "display_name": "Python 3",
   "language": "python",
   "name": "python3"
  },
  "language_info": {
   "codemirror_mode": {
    "name": "ipython",
    "version": 3
   },
   "file_extension": ".py",
   "mimetype": "text/x-python",
   "name": "python",
   "nbconvert_exporter": "python",
   "pygments_lexer": "ipython3",
   "version": "3.6.4"
  }
 },
 "nbformat": 4,
 "nbformat_minor": 2
}

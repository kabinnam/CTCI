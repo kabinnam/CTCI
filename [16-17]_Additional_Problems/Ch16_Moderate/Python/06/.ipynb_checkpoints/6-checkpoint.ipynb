{
 "cells": [
  {
   "cell_type": "markdown",
   "metadata": {},
   "source": [
    "# Problem 6\n",
    "## Smallest Difference\n",
    "\n",
    "> Given two arrays of integers, compute the pair of values (one value in each array) with the smallest (non-negative) difference. Return the difference.\n",
    "\n",
    "> EXAMPLE\n",
    "> Input: {1, 3, 15, 11, 2}, {23, 127, 235, 19, 8}\n",
    "> Output: 3. That is, the pair (11, 8)."
   ]
  },
  {
   "cell_type": "code",
   "execution_count": 1,
   "metadata": {},
   "outputs": [],
   "source": [
    "def smallest_diff():\n",
    "    pass"
   ]
  },
  {
   "cell_type": "markdown",
   "metadata": {},
   "source": [
    "### Test Program"
   ]
  },
  {
   "cell_type": "code",
   "execution_count": 14,
   "metadata": {},
   "outputs": [
    {
     "name": "stderr",
     "output_type": "stream",
     "text": [
      "..\n",
      "----------------------------------------------------------------------\n",
      "Ran 2 tests in 0.002s\n",
      "\n",
      "OK\n"
     ]
    }
   ],
   "source": [
    "import unittest\n",
    "\n",
    "class TestIsUniqueMethod(unittest.TestCase):\n",
    "\n",
    "    def test_simple_solution(self):\n",
    "        self.assertTrue(isUnique_simple(\"k\"))\n",
    "        self.assertTrue(isUnique_simple(\"hiya\"))\n",
    "        self.assertFalse(isUnique_simple(\"I'm Unique?\"))\n",
    "\n",
    "    def test_better_solution(self):\n",
    "        pass\n",
    "        #self.assertTrue(isUnique_better(\"k\"))\n",
    "        #self.assertTrue(isUnique_better(\"hiya\"))\n",
    "        #self.assertTrue(isUnique_better(\"I'm Unique?\"))\n",
    "\n",
    "if __name__ == '__main__':\n",
    "    # Need to add this parameter to the unittest.main function when unittesting in iPython because:\n",
    "    # unittest.main looks at sys.argv and first parameter is what started IPython or Jupyter, \n",
    "    # therefore there'll be an error about kernel connection file not being a valid attribute.\n",
    "    # Passing explicit list to unittest.main will prevent IPython and Jupyter look at sys.argv.\n",
    "    # Passing exit=False will prevent unittest.main from shutting down the kernel process\n",
    "    unittest.main(argv=['first-arg-is-ignored'], exit=False)"
   ]
  },
  {
   "cell_type": "code",
   "execution_count": null,
   "metadata": {},
   "outputs": [],
   "source": []
  }
 ],
 "metadata": {
  "kernelspec": {
   "display_name": "Python 3",
   "language": "python",
   "name": "python3"
  },
  "language_info": {
   "codemirror_mode": {
    "name": "ipython",
    "version": 3
   },
   "file_extension": ".py",
   "mimetype": "text/x-python",
   "name": "python",
   "nbconvert_exporter": "python",
   "pygments_lexer": "ipython3",
   "version": "3.6.4"
  }
 },
 "nbformat": 4,
 "nbformat_minor": 2
}

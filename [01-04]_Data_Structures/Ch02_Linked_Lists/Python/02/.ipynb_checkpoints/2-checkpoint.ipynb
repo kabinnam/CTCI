{
 "cells": [
  {
   "cell_type": "markdown",
   "metadata": {},
   "source": [
    "# Problem 2\n",
    "## Return Kth to Last\n",
    "\n",
    "> Implement an algorithm to find the kth to last element of a singly linked list.\n",
    "\n",
    "Hints: #8, #25, #41, #67, #126\n",
    "\n",
    "---\n",
    "\n",
    "Linked List Implementation"
   ]
  },
  {
   "cell_type": "code",
   "execution_count": 11,
   "metadata": {},
   "outputs": [],
   "source": [
    "class Node(object):\n",
    "    \n",
    "    def __init__(self, value, nextNode=None):\n",
    "        self.value = value\n",
    "        self.nextNode = nextNode"
   ]
  },
  {
   "cell_type": "markdown",
   "metadata": {},
   "source": [
    "**First Implementation**\n",
    "\n",
    "**Space and Runtime Complexity**: **O(N)** Time, **O(1)** Space"
   ]
  },
  {
   "cell_type": "code",
   "execution_count": 12,
   "metadata": {},
   "outputs": [],
   "source": [
    "def return_k_to_last(inputList, k):\n",
    "    \n",
    "    # Figure out the length of the linkedlist\n",
    "    length = 0\n",
    "    cur = inputList\n",
    "    while cur != None:\n",
    "        length += 1\n",
    "        cur = cur.nextNode\n",
    "    \n",
    "    # If k is larger than the length of the linkedlist\n",
    "    # Return None\n",
    "    index = length - 1 - k\n",
    "    if index < 0:\n",
    "        return None\n",
    "    \n",
    "    # Starting back at the beginning, get the kth from last\n",
    "    # node from the linked list by using length - 1 - k\n",
    "    cur = inputList\n",
    "    while index > 0:\n",
    "        index -= 1\n",
    "        cur = cur.nextNode\n",
    "        \n",
    "    return cur"
   ]
  },
  {
   "cell_type": "markdown",
   "metadata": {},
   "source": [
    "**Test Program**"
   ]
  },
  {
   "cell_type": "code",
   "execution_count": 19,
   "metadata": {},
   "outputs": [
    {
     "name": "stderr",
     "output_type": "stream",
     "text": [
      ".\n",
      "----------------------------------------------------------------------\n",
      "Ran 1 test in 0.001s\n",
      "\n",
      "OK\n"
     ]
    }
   ],
   "source": [
    "import unittest\n",
    "\n",
    "class TestIsUniqueMethod(unittest.TestCase):\n",
    "\n",
    "    def test_simple_solution(self):\n",
    "        # Construct a linked list out of Node objects\n",
    "        headOfList = Node(1, Node(2, Node(3)))\n",
    "        \n",
    "        self.assertEqual(return_k_to_last(headOfList, 0).value, 3)\n",
    "        self.assertEqual(return_k_to_last(headOfList, 1).value, 2)\n",
    "        self.assertEqual(return_k_to_last(headOfList, 2).value, 1)\n",
    "        self.assertEqual(return_k_to_last(headOfList, 3), None)\n",
    "\n",
    "if __name__ == '__main__':\n",
    "    # Need to add this parameter to the unittest.main function when unittesting in iPython because:\n",
    "    # unittest.main looks at sys.argv and first parameter is what started IPython or Jupyter, \n",
    "    # therefore there'll be an error about kernel connection file not being a valid attribute.\n",
    "    # Passing explicit list to unittest.main will prevent IPython and Jupyter look at sys.argv.\n",
    "    # Passing exit=False will prevent unittest.main from shutting down the kernel process\n",
    "    unittest.main(argv=['first-arg-is-ignored'], exit=False)"
   ]
  },
  {
   "cell_type": "code",
   "execution_count": null,
   "metadata": {},
   "outputs": [],
   "source": []
  }
 ],
 "metadata": {
  "kernelspec": {
   "display_name": "Python 3",
   "language": "python",
   "name": "python3"
  },
  "language_info": {
   "codemirror_mode": {
    "name": "ipython",
    "version": 3
   },
   "file_extension": ".py",
   "mimetype": "text/x-python",
   "name": "python",
   "nbconvert_exporter": "python",
   "pygments_lexer": "ipython3",
   "version": "3.6.4"
  }
 },
 "nbformat": 4,
 "nbformat_minor": 2
}

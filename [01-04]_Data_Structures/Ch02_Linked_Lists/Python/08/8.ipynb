{
 "cells": [
  {
   "cell_type": "markdown",
   "metadata": {},
   "source": [
    "# Problem 8\n",
    "## Loop Detection\n",
    "\n",
    "> Given a circular linked list, implement an algorithm  that returns the node at the beginning of the loop.\n",
    "\n",
    "> DEFINITION\n",
    "\n",
    "> Circular linked list: A (corrupt) linked list in which a node's next pointer points to an earlier node, so as to make a loop in the linked list.\n",
    "\n",
    "> EXAMPLE\n",
    "\n",
    "> Input:  A -> B -> C -> D -> E -> C [the same C as earlier]\n",
    "\n",
    "> Output: C\n",
    "\n",
    "Hints: #50, #69, #83, #90\n",
    "\n",
    "---\n",
    "\n",
    "**First Attempt**\n",
    "\n",
    "**Space and Runtime Complexity**:"
   ]
  },
  {
   "cell_type": "code",
   "execution_count": 3,
   "metadata": {},
   "outputs": [],
   "source": [
    "class ListNode():\n",
    "    def __init__(self, x, nextNode=None):\n",
    "        self.value = x\n",
    "        self.next = nextNode\n",
    "\n",
    "def loop_detection(inputList):\n",
    "    # Use hash set to keep track of unique nodes in linked-list\n",
    "    unique = set()\n",
    "    head = inputList\n",
    "    \n",
    "    while inputList:\n",
    "        if inputList not in unique:\n",
    "            unique.add(inputList)\n",
    "        else:\n",
    "            return inputList\n",
    "\n",
    "        inputList = inputList.next\n",
    "        \n",
    "    return head"
   ]
  },
  {
   "cell_type": "markdown",
   "metadata": {},
   "source": [
    "**Test Program**"
   ]
  },
  {
   "cell_type": "code",
   "execution_count": 7,
   "metadata": {},
   "outputs": [
    {
     "name": "stderr",
     "output_type": "stream",
     "text": [
      ".\n",
      "----------------------------------------------------------------------\n",
      "Ran 1 test in 0.001s\n",
      "\n",
      "OK\n"
     ]
    }
   ],
   "source": [
    "import unittest\n",
    "\n",
    "class TestIsUniqueMethod(unittest.TestCase):\n",
    "\n",
    "    def test_simple_solution(self):\n",
    "        # A -> B -> C -> D -> E -> C\n",
    "        hasLoop = ListNode('A', ListNode('B', ListNode('C', ListNode('D', ListNode('E')))))\n",
    "        ptr = hasLoop\n",
    "        loopPtr = hasLoop.next.next\n",
    "        while ptr.next:\n",
    "            ptr = ptr.next\n",
    "        ptr.next = loopPtr\n",
    "        \n",
    "        # A -> B -> C -> D -> E \n",
    "        noLoop = ListNode('A', ListNode('B', ListNode('C', ListNode('D', ListNode('E')))))\n",
    "        self.assertEqual(loop_detection(hasLoop), loopPtr)\n",
    "        self.assertEqual(loop_detection(noLoop), noLoop)\n",
    "\n",
    "if __name__ == '__main__':\n",
    "    # Need to add this parameter to the unittest.main function when unittesting in iPython because:\n",
    "    # unittest.main looks at sys.argv and first parameter is what started IPython or Jupyter, \n",
    "    # therefore there'll be an error about kernel connection file not being a valid attribute.\n",
    "    # Passing explicit list to unittest.main will prevent IPython and Jupyter look at sys.argv.\n",
    "    # Passing exit=False will prevent unittest.main from shutting down the kernel process\n",
    "    unittest.main(argv=['first-arg-is-ignored'], exit=False)"
   ]
  },
  {
   "cell_type": "code",
   "execution_count": null,
   "metadata": {},
   "outputs": [],
   "source": []
  }
 ],
 "metadata": {
  "kernelspec": {
   "display_name": "Python 3",
   "language": "python",
   "name": "python3"
  },
  "language_info": {
   "codemirror_mode": {
    "name": "ipython",
    "version": 3
   },
   "file_extension": ".py",
   "mimetype": "text/x-python",
   "name": "python",
   "nbconvert_exporter": "python",
   "pygments_lexer": "ipython3",
   "version": "3.6.4"
  }
 },
 "nbformat": 4,
 "nbformat_minor": 2
}

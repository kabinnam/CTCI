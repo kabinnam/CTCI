{
 "cells": [
  {
   "cell_type": "code",
   "execution_count": 1,
   "metadata": {},
   "outputs": [],
   "source": [
    "# URLify: Write a method to replace all spaces in a string with '%20'.\n",
    "# You may assume that the string has sufficient space at the end to\n",
    "# hold the additional characters, and that you are given the \"true\"\n",
    "# length of the string. (Note: if implementing in Java, please use\n",
    "# a character array so that you can perform this operation in place.)\n",
    "#\n",
    "# EXAMPLE\n",
    "# Input:    \"Mr John Smith  \", 13\n",
    "# Output:   \"Mr%20John%20Smith\"\n",
    "#\n",
    "# Hints: #53, #118\n",
    "\n",
    "\n",
    "\n",
    "\n"
   ]
  },
  {
   "cell_type": "code",
   "execution_count": null,
   "metadata": {},
   "outputs": [],
   "source": [
    "# Test Program to cover and check as many cases as possible, that would be\n",
    "# reasonable to check within an interview.\n",
    "\n"
   ]
  }
 ],
 "metadata": {
  "kernelspec": {
   "display_name": "Python 3",
   "language": "python",
   "name": "python3"
  },
  "language_info": {
   "codemirror_mode": {
    "name": "ipython",
    "version": 3
   },
   "file_extension": ".py",
   "mimetype": "text/x-python",
   "name": "python",
   "nbconvert_exporter": "python",
   "pygments_lexer": "ipython3",
   "version": "3.6.4"
  }
 },
 "nbformat": 4,
 "nbformat_minor": 2
}

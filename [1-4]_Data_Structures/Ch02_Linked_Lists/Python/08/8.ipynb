{
 "cells": [
  {
   "cell_type": "code",
   "execution_count": 1,
   "metadata": {},
   "outputs": [],
   "source": [
    "# Loop Detection: Given a circular linked list, implement an algorithm \n",
    "# that returns the node at the beginning of the loop.\n",
    "#\n",
    "# DEFINITION\n",
    "# Circular linked list: A (corrupt) linked list in which a node's next pointer\n",
    "# points to an earlier node, so as to make a loop in the linked list.\n",
    "#\n",
    "# EXAMPLE\n",
    "# Input:  A -> B -> C -> D -> E -> C [the same C as earlier]\n",
    "# Output: C\n",
    "#\n",
    "# Hints: #50, #69, #83, #90\n",
    "\n",
    "\n"
   ]
  },
  {
   "cell_type": "code",
   "execution_count": null,
   "metadata": {},
   "outputs": [],
   "source": [
    "# Test Program to cover and check as many cases as possible, that would be\n",
    "# reasonable to check within an interview.\n",
    "\n"
   ]
  }
 ],
 "metadata": {
  "kernelspec": {
   "display_name": "Python 3",
   "language": "python",
   "name": "python3"
  },
  "language_info": {
   "codemirror_mode": {
    "name": "ipython",
    "version": 3
   },
   "file_extension": ".py",
   "mimetype": "text/x-python",
   "name": "python",
   "nbconvert_exporter": "python",
   "pygments_lexer": "ipython3",
   "version": "3.6.4"
  }
 },
 "nbformat": 4,
 "nbformat_minor": 2
}

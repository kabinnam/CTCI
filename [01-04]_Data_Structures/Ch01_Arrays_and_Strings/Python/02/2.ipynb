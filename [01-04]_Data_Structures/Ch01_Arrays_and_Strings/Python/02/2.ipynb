{
 "cells": [
  {
   "cell_type": "code",
   "execution_count": 7,
   "metadata": {},
   "outputs": [],
   "source": [
    "# Check Permutation: Given two strings,\n",
    "# write a method to decide if one is a\n",
    "# permutation of the other.\n",
    "#\n",
    "# Hints: #1, #84, #122, #131\n",
    "\n",
    "# My bruteforce attempt:\n",
    "# Check that for each character in string1, go through\n",
    "# string2 to see if there's the same character, and remove it.\n",
    "# Runtime: The Nested for loops will give O(N^2)\n",
    "#          The string2 concatenation will cost O(N)\n",
    "#          Overall, a really bad O(N^3)\n",
    "def checkPermutation_simple(string1, string2):\n",
    "    # Check that the strings have same length,\n",
    "    # otherwise there can't be a permutation of\n",
    "    # each other.\n",
    "    if len(string1) != len(string2):\n",
    "        return False\n",
    "    \n",
    "    for c in string1:\n",
    "        found = False\n",
    "        for i in range(len(string2)):\n",
    "            if string2[i] == c:\n",
    "                string2 = string2[:i] + string2[i+1:]\n",
    "                found = True\n",
    "                break\n",
    "        if not found:\n",
    "            return False\n",
    "    return found\n",
    "        \n",
    "# TODO: My better implementation\n",
    "# Goal: Definitely can't do better than O(N), since we need to\n",
    "#       check every character in at least one of the strings.\n",
    "def checkPermutation_better(string1, string2):\n",
    "    pass"
   ]
  },
  {
   "cell_type": "code",
   "execution_count": 8,
   "metadata": {},
   "outputs": [
    {
     "name": "stderr",
     "output_type": "stream",
     "text": [
      "..\n",
      "----------------------------------------------------------------------\n",
      "Ran 2 tests in 0.003s\n",
      "\n",
      "OK\n"
     ]
    }
   ],
   "source": [
    "# Test Program to cover and check as many cases as possible, that would be\n",
    "# reasonable to check within an interview.\n",
    "import unittest\n",
    "\n",
    "class TestIsUniqueMethod(unittest.TestCase):\n",
    "\n",
    "    def test_simple_solution(self):\n",
    "        self.assertTrue(checkPermutation_simple(\"kabin\", \"kbain\"))\n",
    "        self.assertFalse(checkPermutation_simple(\"hello\", \"helo\"))\n",
    "\n",
    "    def test_better_solution(self):\n",
    "        pass\n",
    "\n",
    "if __name__ == '__main__':\n",
    "    # Need to add this parameter to the unittest.main function when unittesting in iPython because:\n",
    "    # unittest.main looks at sys.argv and first parameter is what started IPython or Jupyter, \n",
    "    # therefore there'll be an error about kernel connection file not being a valid attribute.\n",
    "    # Passing explicit list to unittest.main will prevent IPython and Jupyter look at sys.argv.\n",
    "    # Passing exit=False will prevent unittest.main from shutting down the kernel process\n",
    "    unittest.main(argv=['first-arg-is-ignored'], exit=False)"
   ]
  },
  {
   "cell_type": "code",
   "execution_count": null,
   "metadata": {},
   "outputs": [],
   "source": []
  }
 ],
 "metadata": {
  "kernelspec": {
   "display_name": "Python 3",
   "language": "python",
   "name": "python3"
  },
  "language_info": {
   "codemirror_mode": {
    "name": "ipython",
    "version": 3
   },
   "file_extension": ".py",
   "mimetype": "text/x-python",
   "name": "python",
   "nbconvert_exporter": "python",
   "pygments_lexer": "ipython3",
   "version": "3.6.4"
  }
 },
 "nbformat": 4,
 "nbformat_minor": 2
}

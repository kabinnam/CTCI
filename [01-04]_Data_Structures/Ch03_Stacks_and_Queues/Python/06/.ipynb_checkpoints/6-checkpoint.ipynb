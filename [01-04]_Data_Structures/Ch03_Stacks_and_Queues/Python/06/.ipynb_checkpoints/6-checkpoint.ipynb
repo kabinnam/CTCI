{
 "cells": [
  {
   "cell_type": "code",
   "execution_count": 13,
   "metadata": {},
   "outputs": [],
   "source": [
    "# Animal Shelter: An animal shelter, which holds only dogs and cats, operates \n",
    "# on a strictly \"first in, first out\" basis. People must adopt either the \"oldest\"\n",
    "# (based on arrival time) of all animals at the shelter, or they can select whether\n",
    "# they would prefer a dog or a cat (and will receive the oldest animal of that type).\n",
    "# They cannot select which specific animal they would like. Create the data structures\n",
    "# to maintain this system and implement operations such as enqueue, dequeueAny, dequeueDog,\n",
    "# and dequeueCat. You may use the built-in LinkedList data structure.\n",
    "#\n",
    "# Hints: #22, #56, #63\n",
    "        "
   ]
  },
  {
   "cell_type": "code",
   "execution_count": 14,
   "metadata": {},
   "outputs": [
    {
     "name": "stderr",
     "output_type": "stream",
     "text": [
      "..\n",
      "----------------------------------------------------------------------\n",
      "Ran 2 tests in 0.002s\n",
      "\n",
      "OK\n"
     ]
    }
   ],
   "source": [
    "# Test Program to cover and check as many cases as possible, that would be\n",
    "# reasonable to check within an interview.\n",
    "import unittest\n",
    "\n",
    "class TestIsUniqueMethod(unittest.TestCase):\n",
    "\n",
    "    def test_simple_solution(self):\n",
    "        self.assertTrue(isUnique_simple(\"k\"))\n",
    "        self.assertTrue(isUnique_simple(\"hiya\"))\n",
    "        self.assertFalse(isUnique_simple(\"I'm Unique?\"))\n",
    "\n",
    "    def test_better_solution(self):\n",
    "        pass\n",
    "        #self.assertTrue(isUnique_better(\"k\"))\n",
    "        #self.assertTrue(isUnique_better(\"hiya\"))\n",
    "        #self.assertTrue(isUnique_better(\"I'm Unique?\"))\n",
    "\n",
    "if __name__ == '__main__':\n",
    "    # Need to add this parameter to the unittest.main function when unittesting in iPython because:\n",
    "    # unittest.main looks at sys.argv and first parameter is what started IPython or Jupyter, \n",
    "    # therefore there'll be an error about kernel connection file not being a valid attribute.\n",
    "    # Passing explicit list to unittest.main will prevent IPython and Jupyter look at sys.argv.\n",
    "    # Passing exit=False will prevent unittest.main from shutting down the kernel process\n",
    "    unittest.main(argv=['first-arg-is-ignored'], exit=False)"
   ]
  },
  {
   "cell_type": "code",
   "execution_count": null,
   "metadata": {},
   "outputs": [],
   "source": []
  }
 ],
 "metadata": {
  "kernelspec": {
   "display_name": "Python 3",
   "language": "python",
   "name": "python3"
  },
  "language_info": {
   "codemirror_mode": {
    "name": "ipython",
    "version": 3
   },
   "file_extension": ".py",
   "mimetype": "text/x-python",
   "name": "python",
   "nbconvert_exporter": "python",
   "pygments_lexer": "ipython3",
   "version": "3.6.4"
  }
 },
 "nbformat": 4,
 "nbformat_minor": 2
}

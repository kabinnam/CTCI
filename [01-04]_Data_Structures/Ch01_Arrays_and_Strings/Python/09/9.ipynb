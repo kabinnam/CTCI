{
 "cells": [
  {
   "cell_type": "markdown",
   "metadata": {},
   "source": [
    "# Problem 9\n",
    "## String Rotation\n",
    "\n",
    "> Assume you have a method isSubstring which checks if one word is a substring of another. Given two strings, s1 and s2, write code to check if s2 is a rotation of s1 using only one call to isSubstring (e.g., \"waterbottle\" is a rotation of \"erbottlewat\").\n",
    "\n",
    "Hints: #34, #88, #104\n",
    "\n",
    "---\n",
    "\n",
    "**First Attempt**\n",
    "\n",
    "**Space and Time Complexity**: **O(N)** time, **O(1)** space"
   ]
  },
  {
   "cell_type": "code",
   "execution_count": 16,
   "metadata": {},
   "outputs": [],
   "source": [
    "def stringRotation(s1, s2):\n",
    "    # Immediately return false, if the two strings are not the same length.\n",
    "    # That means one string cannot be a rotation of the other.\n",
    "    if len(s1) != len(s2):\n",
    "        return False\n",
    "    \n",
    "    # Find the first index in String 1 that matches with a character in String 2.\n",
    "    startIndex = -1    \n",
    "    for i in range(len(s1)):\n",
    "        if s1[i] == s2[0]:\n",
    "            startIndex = i\n",
    "            break\n",
    "    \n",
    "    # If we never found that index, then there can't be a rotation, since the strings\n",
    "    # are missing a common character.\n",
    "    if startIndex == -1:\n",
    "        return False\n",
    "    else:\n",
    "        # Our \"isSubstring\" method is checking if a substring is 'in' another string\n",
    "        # Of course, in Python this method takes something like O(N) time, but I think\n",
    "        # this question is asking to assume there's a method \"isSubstring\" that operates\n",
    "        # in O(1).\n",
    "        return (s1[startIndex:] in s2 and s1[:startIndex] in s2)\n",
    "    \n",
    "    return s1 in s2"
   ]
  },
  {
   "cell_type": "markdown",
   "metadata": {},
   "source": [
    "**Test Program**"
   ]
  },
  {
   "cell_type": "code",
   "execution_count": 17,
   "metadata": {},
   "outputs": [
    {
     "name": "stderr",
     "output_type": "stream",
     "text": [
      ".\n",
      "----------------------------------------------------------------------\n",
      "Ran 1 test in 0.002s\n",
      "\n",
      "OK\n"
     ]
    }
   ],
   "source": [
    "import unittest\n",
    "\n",
    "class TestIsUniqueMethod(unittest.TestCase):\n",
    "\n",
    "    def test_simple_solution(self):\n",
    "        self.assertTrue(stringRotation(\"waterbottle\", \"erbottlewat\"))\n",
    "        self.assertFalse(stringRotation(\"hello\", \"helo\"))\n",
    "        self.assertFalse(stringRotation(\"hello\", \"llahe\"))\n",
    "        self.assertTrue(stringRotation(\"hello\", \"llohe\"))\n",
    "        self.assertTrue(stringRotation(\"hello\", \"ohell\"))\n",
    "\n",
    "if __name__ == '__main__':\n",
    "    # Need to add this parameter to the unittest.main function when unittesting in iPython because:\n",
    "    # unittest.main looks at sys.argv and first parameter is what started IPython or Jupyter, \n",
    "    # therefore there'll be an error about kernel connection file not being a valid attribute.\n",
    "    # Passing explicit list to unittest.main will prevent IPython and Jupyter look at sys.argv.\n",
    "    # Passing exit=False will prevent unittest.main from shutting down the kernel process\n",
    "    unittest.main(argv=['first-arg-is-ignored'], exit=False)"
   ]
  },
  {
   "cell_type": "code",
   "execution_count": null,
   "metadata": {},
   "outputs": [],
   "source": []
  }
 ],
 "metadata": {
  "kernelspec": {
   "display_name": "Python 3",
   "language": "python",
   "name": "python3"
  },
  "language_info": {
   "codemirror_mode": {
    "name": "ipython",
    "version": 3
   },
   "file_extension": ".py",
   "mimetype": "text/x-python",
   "name": "python",
   "nbconvert_exporter": "python",
   "pygments_lexer": "ipython3",
   "version": "3.6.4"
  }
 },
 "nbformat": 4,
 "nbformat_minor": 2
}

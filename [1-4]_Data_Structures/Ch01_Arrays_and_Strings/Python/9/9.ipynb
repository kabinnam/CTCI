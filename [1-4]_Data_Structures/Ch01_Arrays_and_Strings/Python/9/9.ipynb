{
 "cells": [
  {
   "cell_type": "code",
   "execution_count": 1,
   "metadata": {},
   "outputs": [],
   "source": [
    "# String Rotation: Assume you have a method isSubstring which checks if one\n",
    "# word is a substring of another. Given two strings, s1 and s2, write code\n",
    "# to check if s2 is a rotation of s1 using only one call to isSubstring\n",
    "# (e.g., \"waterbottle\" is a rotation of \"erbottlewat\").\n",
    "#\n",
    "# Hints: #34, #88, #104\n",
    "\n"
   ]
  },
  {
   "cell_type": "code",
   "execution_count": null,
   "metadata": {},
   "outputs": [],
   "source": [
    "# Test Program to cover and check as many cases as possible, that would be\n",
    "# reasonable to check within an interview.\n",
    "\n",
    "\n"
   ]
  }
 ],
 "metadata": {
  "kernelspec": {
   "display_name": "Python 3",
   "language": "python",
   "name": "python3"
  },
  "language_info": {
   "codemirror_mode": {
    "name": "ipython",
    "version": 3
   },
   "file_extension": ".py",
   "mimetype": "text/x-python",
   "name": "python",
   "nbconvert_exporter": "python",
   "pygments_lexer": "ipython3",
   "version": "3.6.4"
  }
 },
 "nbformat": 4,
 "nbformat_minor": 2
}

{
 "cells": [
  {
   "cell_type": "markdown",
   "metadata": {},
   "source": [
    "# Problem 1\n",
    "## Is Unique\n",
    "\n",
    "> Implement an algorithm to determine if a string (s) has all unique characters. What if you cannot use additional data structures?\n",
    "\n",
    "Hints: #44, #117, #132\n",
    "\n",
    "---"
   ]
  },
  {
   "cell_type": "markdown",
   "metadata": {},
   "source": [
    "Nice short solution. If the interviewer says that an Uppercase letter is different from its lowecase version, then we can remove the line setting s = s.lower(). Also, this is creating a set, which would be an additional data structure.\n",
    "\n",
    "**Space and Time Complexity**: **O(N)** since creating set(s) will need to add all N elements one-by-one  "
   ]
  },
  {
   "cell_type": "code",
   "execution_count": 3,
   "metadata": {},
   "outputs": [],
   "source": [
    "def isUnique_simple(s):\n",
    "    # Making all\n",
    "    s = s.lower()\n",
    "    return len(s) == len(set(s))"
   ]
  },
  {
   "cell_type": "markdown",
   "metadata": {},
   "source": [
    "**ATTN:** I couldn't figure this out on first try. Check solution on p. 193\n",
    "\n",
    "This solution will try to improve on the previous problem by \n",
    "making sure that we don't use any additional space, by \n",
    "not creating an additional data structure. Also, assuming\n",
    "input is in ASCII (non-extended) format, which contains 2^7 = 128\n",
    "possible characters."
   ]
  },
  {
   "cell_type": "code",
   "execution_count": 17,
   "metadata": {},
   "outputs": [],
   "source": [
    "def isUnique_better(s):\n",
    "    checker = 0\n",
    "    for i in range(len(s)):\n",
    "        val = ord(s[i])\n",
    "        if (checker & (1 << val)) > 0:\n",
    "            return False\n",
    "        checker |= 1 << val\n",
    "        \n",
    "    return True\n",
    "        "
   ]
  },
  {
   "cell_type": "markdown",
   "metadata": {},
   "source": [
    "---\n",
    "***Test Program*** (below) to cover and check as many cases as possible, that would be\n",
    "reasonable to check within an interview."
   ]
  },
  {
   "cell_type": "code",
   "execution_count": 18,
   "metadata": {},
   "outputs": [
    {
     "name": "stderr",
     "output_type": "stream",
     "text": [
      "..\n",
      "----------------------------------------------------------------------\n",
      "Ran 2 tests in 0.006s\n",
      "\n",
      "OK\n"
     ]
    }
   ],
   "source": [
    "import unittest\n",
    "\n",
    "class TestIsUniqueMethod(unittest.TestCase):\n",
    "\n",
    "    def test_simple_solution(self):\n",
    "        self.assertTrue(isUnique_simple(\"k\"))\n",
    "        self.assertTrue(isUnique_simple(\"hiya\"))\n",
    "        self.assertFalse(isUnique_simple(\"I'm Unique?\"))\n",
    "\n",
    "    def test_better_solution(self):\n",
    "        self.assertTrue(isUnique_better(\"k\"))\n",
    "        self.assertTrue(isUnique_better(\"hiya\"))\n",
    "        self.assertTrue(isUnique_better(\"I'm Unique?\"))\n",
    "\n",
    "if __name__ == '__main__':\n",
    "    # Need to add this parameter to the unittest.main function when unittesting in iPython because:\n",
    "    # unittest.main looks at sys.argv and first parameter is what started IPython or Jupyter, \n",
    "    # therefore there'll be an error about kernel connection file not being a valid attribute.\n",
    "    # Passing explicit list to unittest.main will prevent IPython and Jupyter look at sys.argv.\n",
    "    # Passing exit=False will prevent unittest.main from shutting down the kernel process\n",
    "    unittest.main(argv=['first-arg-is-ignored'], exit=False)"
   ]
  },
  {
   "cell_type": "code",
   "execution_count": null,
   "metadata": {},
   "outputs": [],
   "source": []
  }
 ],
 "metadata": {
  "kernelspec": {
   "display_name": "Python 3",
   "language": "python",
   "name": "python3"
  },
  "language_info": {
   "codemirror_mode": {
    "name": "ipython",
    "version": 3
   },
   "file_extension": ".py",
   "mimetype": "text/x-python",
   "name": "python",
   "nbconvert_exporter": "python",
   "pygments_lexer": "ipython3",
   "version": "3.6.4"
  }
 },
 "nbformat": 4,
 "nbformat_minor": 2
}

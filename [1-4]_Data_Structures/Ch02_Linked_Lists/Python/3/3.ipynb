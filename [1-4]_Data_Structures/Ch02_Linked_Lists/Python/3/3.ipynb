{
 "cells": [
  {
   "cell_type": "code",
   "execution_count": null,
   "metadata": {},
   "outputs": [],
   "source": [
    "# Delete Middle Node: Implement an algorithm to delete a node in the middle\n",
    "# (i.e., any node but the first and last node,  not necessarily the exact\n",
    "# middle) of a singly linked list, given only access to that node.\n",
    "# EXAMPLE\n",
    "# Input: the node c from the linked list a->b->c->d->e->f\n",
    "# Output: nothing is returned,\n",
    "#         but the new linked list looks like a->b->d->e->f\n",
    "#\n",
    "# Hints: #72\n",
    "\n",
    "\n"
   ]
  },
  {
   "cell_type": "code",
   "execution_count": null,
   "metadata": {},
   "outputs": [],
   "source": [
    "# Test Program to cover and check as many cases as possible, that would be\n",
    "# reasonable to check within an interview.\n",
    "\n"
   ]
  }
 ],
 "metadata": {
  "kernelspec": {
   "display_name": "Python 3",
   "language": "python",
   "name": "python3"
  },
  "language_info": {
   "codemirror_mode": {
    "name": "ipython",
    "version": 3
   },
   "file_extension": ".py",
   "mimetype": "text/x-python",
   "name": "python",
   "nbconvert_exporter": "python",
   "pygments_lexer": "ipython3",
   "version": "3.6.4"
  }
 },
 "nbformat": 4,
 "nbformat_minor": 2
}

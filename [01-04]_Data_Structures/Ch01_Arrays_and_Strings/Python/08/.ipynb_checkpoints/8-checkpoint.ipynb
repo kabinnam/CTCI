{
 "cells": [
  {
   "cell_type": "markdown",
   "metadata": {},
   "source": [
    "# Problem 8\n",
    "## Zero Matrix\n",
    "\n",
    ">Write an algorithm such that if an element in an MxN matrix is 0, its entire row and column are set to 0.\n",
    "\n",
    "Hints: #17, #74, #102\n",
    "\n",
    "---\n",
    "\n",
    "**First Attempt**\n",
    "\n",
    "**Space and Time Complexity**: **O(MN)** Space and Time, To improve this we can use 2 boolean arrays to keep track of which rows and columns need to be zeroed out, Instead of keeping track of exact locations of the zeros. This would reduce down to O(N) space. It is also possible to reduce space down to O(1) by using row 0 and col 0 to keep track of where the zeros occur."
   ]
  },
  {
   "cell_type": "code",
   "execution_count": 5,
   "metadata": {},
   "outputs": [],
   "source": [
    "def zero_matrix(matrix):\n",
    "    # Iterate through matrix. If zero found, \n",
    "    # zero out the row and save col location later.\n",
    "    markZeroRows = set()\n",
    "    markZeroCols = set()\n",
    "    for i in range(len(matrix)):\n",
    "        for j in range(len(matrix[0])):\n",
    "            if matrix[i][j] == 0:\n",
    "                markZeroRows.add(i)\n",
    "                markZeroCols.add(j)\n",
    "    \n",
    "    # Go through each row that had a zero,\n",
    "    # replace the row entirely with zeros\n",
    "    for row in list(markZeroRows):\n",
    "        matrix[row] = [0]*len(matrix[row])\n",
    "\n",
    "    # Go to each column that had a zero,\n",
    "    # \n",
    "    for col in list(markZeroCols):\n",
    "        for row in range(len(matrix)):\n",
    "            matrix[row][col] = 0\n",
    "        \n",
    "    return matrix"
   ]
  },
  {
   "cell_type": "markdown",
   "metadata": {},
   "source": [
    "**Test Program**"
   ]
  },
  {
   "cell_type": "code",
   "execution_count": 8,
   "metadata": {},
   "outputs": [
    {
     "name": "stderr",
     "output_type": "stream",
     "text": [
      ".\n",
      "----------------------------------------------------------------------\n",
      "Ran 1 test in 0.001s\n",
      "\n",
      "OK\n"
     ]
    }
   ],
   "source": [
    "import unittest\n",
    "\n",
    "class TestIsUniqueMethod(unittest.TestCase):\n",
    "\n",
    "    def test_simple_solution(self):\n",
    "        # Input Matrix:\n",
    "        # [[1,2,3],\n",
    "        #  [4,4,0],\n",
    "        #  [6,7,8],\n",
    "        #  [1,1,9]]\n",
    "        #\n",
    "        # Output Matrix:\n",
    "        # [[1,2,0],\n",
    "        #  [0,0,0],\n",
    "        #  [6,7,0],\n",
    "        #  [1,1,0]]\n",
    "        self.assertEqual(zero_matrix([[1,2,3],[4,4,0],[6,7,8],[1,1,9]]), [[1,2,0],[0,0,0],[6,7,0],[1,1,0]])\n",
    "        \n",
    "        # Input Matrix:\n",
    "        # [[1,1,1],\n",
    "        #  [1,1,1],\n",
    "        #  [0,1,0]]\n",
    "        #\n",
    "        # Output Matrix:\n",
    "        # [[0,1,0],\n",
    "        #  [0,1,0],\n",
    "        #  [0,0,0]]\n",
    "        self.assertEqual(zero_matrix([[1,1,1],[1,1,1], [0,1,0]]),[[0,1,0],[0,1,0], [0,0,0]])\n",
    "        \n",
    "if __name__ == '__main__':\n",
    "    # Need to add this parameter to the unittest.main function when unittesting in iPython because:\n",
    "    # unittest.main looks at sys.argv and first parameter is what started IPython or Jupyter, \n",
    "    # therefore there'll be an error about kernel connection file not being a valid attribute.\n",
    "    # Passing explicit list to unittest.main will prevent IPython and Jupyter look at sys.argv.\n",
    "    # Passing exit=False will prevent unittest.main from shutting down the kernel process\n",
    "    unittest.main(argv=['first-arg-is-ignored'], exit=False)"
   ]
  },
  {
   "cell_type": "code",
   "execution_count": null,
   "metadata": {},
   "outputs": [],
   "source": []
  }
 ],
 "metadata": {
  "kernelspec": {
   "display_name": "Python 3",
   "language": "python",
   "name": "python3"
  },
  "language_info": {
   "codemirror_mode": {
    "name": "ipython",
    "version": 3
   },
   "file_extension": ".py",
   "mimetype": "text/x-python",
   "name": "python",
   "nbconvert_exporter": "python",
   "pygments_lexer": "ipython3",
   "version": "3.6.4"
  }
 },
 "nbformat": 4,
 "nbformat_minor": 2
}

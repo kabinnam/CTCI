{
 "cells": [
  {
   "cell_type": "markdown",
   "metadata": {},
   "source": [
    "# Problem 6\n",
    "## String Compression\n",
    "\n",
    "> Implement a method to perform basic string compression using the counts of repeated characters. For example, the string aabcccccaaa would become a2b1c5a3. If the \"compressed\" string would not become smaller than the original string, your method should return the original string. You can assume the string has only uppercase and lowercase letters (a - z).\n",
    "\n",
    "Hints: #92, #110\n",
    "\n",
    "---\n",
    "\n",
    "**First Attempt**\n",
    "\n",
    "**Space and Time Complexity**: **O(N^2)** time, **O(N)** space"
   ]
  },
  {
   "cell_type": "code",
   "execution_count": 1,
   "metadata": {},
   "outputs": [],
   "source": [
    "def stringCompression(s):\n",
    "    compressedString = \"\"\n",
    "    \n",
    "    prevUniqueChar = \"\"\n",
    "    count = 0\n",
    "    \n",
    "    for c in s:\n",
    "        if c != prevUniqueChar:\n",
    "            if count != 0:\n",
    "                compressedString += str(count)\n",
    "            count = 1\n",
    "            prevUniqueChar = c\n",
    "            compressedString += c\n",
    "        else:\n",
    "            count += 1\n",
    "    \n",
    "    if count > 0:\n",
    "        compressedString += str(count)\n",
    "    \n",
    "    if len(compressedString) < len(s):\n",
    "        return compressedString\n",
    "    else:\n",
    "        return s"
   ]
  },
  {
   "cell_type": "markdown",
   "metadata": {},
   "source": [
    "**Test Program**"
   ]
  },
  {
   "cell_type": "code",
   "execution_count": 2,
   "metadata": {},
   "outputs": [
    {
     "name": "stderr",
     "output_type": "stream",
     "text": [
      ".\n",
      "----------------------------------------------------------------------\n",
      "Ran 1 test in 0.001s\n",
      "\n",
      "OK\n"
     ]
    }
   ],
   "source": [
    "import unittest\n",
    "\n",
    "class TestIsUniqueMethod(unittest.TestCase):\n",
    "\n",
    "    def test_simple_solution(self):\n",
    "        self.assertEqual(stringCompression(\"aabcccccaaa\"), \"a2b1c5a3\")\n",
    "        self.assertEqual(stringCompression(\"a\"), \"a\")\n",
    "        self.assertEqual(stringCompression(\"ab\"), \"ab\")\n",
    "        self.assertEqual(stringCompression(\"aab\"), \"aab\")\n",
    "        self.assertEqual(stringCompression(\"aaab\"), \"aaab\")\n",
    "        self.assertEqual(stringCompression(\"aaaab\"), \"a4b1\")\n",
    "\n",
    "if __name__ == '__main__':\n",
    "    # Need to add this parameter to the unittest.main function when unittesting in iPython because:\n",
    "    # unittest.main looks at sys.argv and first parameter is what started IPython or Jupyter, \n",
    "    # therefore there'll be an error about kernel connection file not being a valid attribute.\n",
    "    # Passing explicit list to unittest.main will prevent IPython and Jupyter look at sys.argv.\n",
    "    # Passing exit=False will prevent unittest.main from shutting down the kernel process\n",
    "    unittest.main(argv=['first-arg-is-ignored'], exit=False)"
   ]
  },
  {
   "cell_type": "code",
   "execution_count": null,
   "metadata": {},
   "outputs": [],
   "source": []
  }
 ],
 "metadata": {
  "kernelspec": {
   "display_name": "Python 3",
   "language": "python",
   "name": "python3"
  },
  "language_info": {
   "codemirror_mode": {
    "name": "ipython",
    "version": 3
   },
   "file_extension": ".py",
   "mimetype": "text/x-python",
   "name": "python",
   "nbconvert_exporter": "python",
   "pygments_lexer": "ipython3",
   "version": "3.6.4"
  }
 },
 "nbformat": 4,
 "nbformat_minor": 2
}

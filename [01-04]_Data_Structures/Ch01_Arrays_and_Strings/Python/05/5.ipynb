{
 "cells": [
  {
   "cell_type": "markdown",
   "metadata": {},
   "source": [
    "# Problem 5\n",
    "## One Away\n",
    "> There are three types of edits that can be performed on strings: insert a character, remove a character, or replace a character. Given two strings, write a function to check if they are one edit (or zero edits) away.\n",
    "\n",
    "> EXAMPLE\n",
    "\n",
    "> pale,  ple  -> true\n",
    "\n",
    "> pales, pale -> true\n",
    "\n",
    "> pale,  bale -> true\n",
    "\n",
    "> pale,  bake -> false\n",
    "\n",
    "---\n",
    "\n",
    "Hints: #23, #97, #130\n",
    "\n",
    "**First Implementation**\n",
    "\n",
    "**Time and Space Complexity**: **O(N)** time, and **O(1)** space"
   ]
  },
  {
   "cell_type": "code",
   "execution_count": 1,
   "metadata": {},
   "outputs": [],
   "source": [
    "def oneAway(s1, s2):\n",
    "    lengthDiff = abs(len(s1) - len(s2))\n",
    "    if lengthDiff == 1:\n",
    "        diff = 0\n",
    "        i_1 = 0\n",
    "        i_2 = 0\n",
    "        \n",
    "        while i_1 < len(s1) and i_2 < len(s2):\n",
    "            if s1[i_1] != s2[i_2]:\n",
    "                diff += 1\n",
    "                if diff > 1:\n",
    "                    return False  \n",
    "                elif len(s1) > len(s2):\n",
    "                    i_1 += 1\n",
    "                else:\n",
    "                    i_2 += 1\n",
    "            else:\n",
    "                i_1 += 1\n",
    "                i_2 += 1\n",
    "                \n",
    "        return True\n",
    "            \n",
    "    elif lengthDiff == 0:\n",
    "        diff = 0\n",
    "        for i in range(len(s1)):\n",
    "            if s1[i] != s2[i]:\n",
    "                diff += 1\n",
    "                if diff > 1:\n",
    "                    return False\n",
    "        return True\n",
    "    else:\n",
    "        return False"
   ]
  },
  {
   "cell_type": "markdown",
   "metadata": {},
   "source": [
    "**Test Program**"
   ]
  },
  {
   "cell_type": "code",
   "execution_count": 2,
   "metadata": {},
   "outputs": [
    {
     "name": "stderr",
     "output_type": "stream",
     "text": [
      "..\n",
      "----------------------------------------------------------------------\n",
      "Ran 2 tests in 0.002s\n",
      "\n",
      "OK\n"
     ]
    }
   ],
   "source": [
    "import unittest\n",
    "\n",
    "class TestIsUniqueMethod(unittest.TestCase):\n",
    "\n",
    "    def test_simple_solution(self):\n",
    "        self.assertTrue(oneAway(\"pale\", \"ple\"))\n",
    "        self.assertTrue(oneAway(\"pales\", \"pale\"))\n",
    "        self.assertTrue(oneAway(\"pale\", \"bale\"))\n",
    "        self.assertFalse(oneAway(\"pale\", \"bake\"))\n",
    "\n",
    "    def test_better_solution(self):\n",
    "        pass\n",
    "\n",
    "if __name__ == '__main__':\n",
    "    # Need to add this parameter to the unittest.main function when unittesting in iPython because:\n",
    "    # unittest.main looks at sys.argv and first parameter is what started IPython or Jupyter, \n",
    "    # therefore there'll be an error about kernel connection file not being a valid attribute.\n",
    "    # Passing explicit list to unittest.main will prevent IPython and Jupyter look at sys.argv.\n",
    "    # Passing exit=False will prevent unittest.main from shutting down the kernel process\n",
    "    unittest.main(argv=['first-arg-is-ignored'], exit=False)"
   ]
  },
  {
   "cell_type": "code",
   "execution_count": null,
   "metadata": {},
   "outputs": [],
   "source": []
  }
 ],
 "metadata": {
  "kernelspec": {
   "display_name": "Python 3",
   "language": "python",
   "name": "python3"
  },
  "language_info": {
   "codemirror_mode": {
    "name": "ipython",
    "version": 3
   },
   "file_extension": ".py",
   "mimetype": "text/x-python",
   "name": "python",
   "nbconvert_exporter": "python",
   "pygments_lexer": "ipython3",
   "version": "3.6.4"
  }
 },
 "nbformat": 4,
 "nbformat_minor": 2
}

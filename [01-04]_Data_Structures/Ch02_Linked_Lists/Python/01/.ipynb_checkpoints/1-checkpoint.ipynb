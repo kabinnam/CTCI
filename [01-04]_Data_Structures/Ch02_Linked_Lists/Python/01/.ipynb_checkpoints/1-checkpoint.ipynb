{
 "cells": [
  {
   "cell_type": "markdown",
   "metadata": {},
   "source": [
    "# Problem 1\n",
    "## Remove Dups\n",
    "\n",
    "> Write code to remove duplicates from an unsorted linked list.\n",
    "\n",
    "> FOLLOW UP\n",
    "\n",
    "> How would you solve this problem if a temporary buffer is not allowed?\n",
    "\n",
    "Hints: #9, #40\n",
    "\n",
    "---\n",
    "\n",
    "### My implementation of singly linked list"
   ]
  },
  {
   "cell_type": "code",
   "execution_count": 6,
   "metadata": {},
   "outputs": [],
   "source": [
    "class Node(object):\n",
    "\n",
    "    def __init__(self, value=None, next=None):\n",
    "        self.value = value\n",
    "        self.next = next\n",
    "\n",
    "    def getValue(self):\n",
    "        return self.value\n",
    "\n",
    "    def getNext(self):\n",
    "        return self.next\n",
    "\n",
    "    def setNext(self, newNext):\n",
    "        self.next = newNext\n",
    "\n",
    "# Singly linked list\n",
    "class linkedlist(object):\n",
    "    def __init__(self, head=None):\n",
    "        self.head = head\n",
    "        self.size = 0\n",
    "\n",
    "    def insert(self, data):\n",
    "        newNode = Node(data)\n",
    "        newNode.setNext(self.head)\n",
    "        self.head = newNode\n",
    "        self.size += 1\n",
    "\n",
    "    # TODO: flesh this out\n",
    "    def delete(self):\n",
    "        self.size -= 1\n",
    "\n",
    "    def size(self):\n",
    "        return self.size"
   ]
  },
  {
   "cell_type": "markdown",
   "metadata": {},
   "source": [
    "**First Attempt**\n",
    "\n",
    "**Space and Time Complexity**:"
   ]
  },
  {
   "cell_type": "code",
   "execution_count": 7,
   "metadata": {},
   "outputs": [],
   "source": [
    "def removeDups(unsorted):\n",
    "    head = linkedlist()"
   ]
  },
  {
   "cell_type": "markdown",
   "metadata": {},
   "source": [
    "**Test Program**"
   ]
  },
  {
   "cell_type": "code",
   "execution_count": null,
   "metadata": {},
   "outputs": [],
   "source": [
    "import unittest\n",
    "\n",
    "class TestIsUniqueMethod(unittest.TestCase):\n",
    "\n",
    "    def test_simple_solution(self):\n",
    "        \n",
    "        self.assertEqual(removeDups())\n",
    "\n",
    "if __name__ == '__main__':\n",
    "    # Need to add this parameter to the unittest.main function when unittesting in iPython because:\n",
    "    # unittest.main looks at sys.argv and first parameter is what started IPython or Jupyter, \n",
    "    # therefore there'll be an error about kernel connection file not being a valid attribute.\n",
    "    # Passing explicit list to unittest.main will prevent IPython and Jupyter look at sys.argv.\n",
    "    # Passing exit=False will prevent unittest.main from shutting down the kernel process\n",
    "    unittest.main(argv=['first-arg-is-ignored'], exit=False)"
   ]
  }
 ],
 "metadata": {
  "kernelspec": {
   "display_name": "Python 3",
   "language": "python",
   "name": "python3"
  },
  "language_info": {
   "codemirror_mode": {
    "name": "ipython",
    "version": 3
   },
   "file_extension": ".py",
   "mimetype": "text/x-python",
   "name": "python",
   "nbconvert_exporter": "python",
   "pygments_lexer": "ipython3",
   "version": "3.6.4"
  }
 },
 "nbformat": 4,
 "nbformat_minor": 2
}

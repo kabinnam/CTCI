{
 "cells": [
  {
   "cell_type": "markdown",
   "metadata": {},
   "source": [
    "# Problem 7\n",
    "## Rotate Matrix\n",
    ">Given an image represented by an NxN matrix, where each pixel in the image is 4 bytes, write a method to rotate the image by 90 degrees. Can you do this in place?\n",
    "\n",
    "Hints: #51, #100\n",
    "\n",
    "---\n",
    "\n",
    "**First Attempt**\n",
    "\n",
    "**Space and Time Complexity**: **O(N^2)** time and space"
   ]
  },
  {
   "cell_type": "code",
   "execution_count": 8,
   "metadata": {},
   "outputs": [],
   "source": [
    "def rotate_matrix(matrix):\n",
    "    rotated = [[0]*len(matrix[0]) for _ in range(len(matrix))]\n",
    "    \n",
    "    for row in range(len(matrix)):\n",
    "        for col in range(len(matrix)):\n",
    "            rotated[row][col] = matrix[len(matrix) - 1 - col][row]\n",
    "        \n",
    "    \n",
    "    return rotated\n"
   ]
  },
  {
   "cell_type": "markdown",
   "metadata": {},
   "source": [
    "**Better Solution**: Seen from Udemy"
   ]
  },
  {
   "cell_type": "code",
   "execution_count": 20,
   "metadata": {},
   "outputs": [],
   "source": [
    "def rotate_matrix_inplace(matrix):\n",
    "    n = len(matrix)\n",
    "    \n",
    "    # Iterate rows\n",
    "    for i in range(math.ceil(n/2)):\n",
    "        \n",
    "        # Iterate columns\n",
    "        for j in range(math.floor(n/2)):\n",
    "            tmp = [-1] * 4\n",
    "            current_i, current_j = i, j\n",
    "            \n",
    "            # Grab elements from each side of the matrix, to rotate\n",
    "            for k in range(4):\n",
    "                tmp[k] = matrix[current_i][current_j]\n",
    "                current_i, current_j = rotate_sub(current_i, current_j, n)\n",
    "            # Starting back in top left most corner, set matrix at this position\n",
    "            # to the last element added into the tmp list.\n",
    "            for k in range(4):\n",
    "                matrix[current_i][current_j] = tmp[(k - 1) % 4]\n",
    "                current_i, current_j = rotate_sub(current_i, current_j, n)\n",
    "    return matrix\n",
    "\n",
    "def rotate_sub(i, j, n):\n",
    "    return j, n - 1 - i"
   ]
  },
  {
   "cell_type": "markdown",
   "metadata": {},
   "source": [
    "**Test Program**"
   ]
  },
  {
   "cell_type": "code",
   "execution_count": 21,
   "metadata": {},
   "outputs": [
    {
     "name": "stderr",
     "output_type": "stream",
     "text": [
      "..\n",
      "----------------------------------------------------------------------\n",
      "Ran 2 tests in 0.003s\n",
      "\n",
      "OK\n"
     ]
    }
   ],
   "source": [
    "import unittest\n",
    "import math\n",
    "\n",
    "class TestIsUniqueMethod(unittest.TestCase):\n",
    "    def test_simple_solution(self):\n",
    "        inMatrix = [[1,2,3],[4,5,6],[7,8,9]]\n",
    "        inMatrixRotated = [[7,4,1],[8,5,2],[9,6,3]]\n",
    "        self.assertEqual(rotate_matrix(inMatrix), inMatrixRotated)\n",
    "\n",
    "    def test_better_solution(self):\n",
    "        inMatrix = [[1,2,3],[4,5,6],[7,8,9]]\n",
    "        inMatrixRotated = [[7,4,1],[8,5,2],[9,6,3]]\n",
    "        self.assertEqual(rotate_matrix_inplace(inMatrix), inMatrixRotated)\n",
    "    \n",
    "if __name__ == '__main__':\n",
    "    # Need to add this parameter to the unittest.main function when unittesting in iPython because:\n",
    "    # unittest.main looks at sys.argv and first parameter is what started IPython or Jupyter, \n",
    "    # therefore there'll be an error about kernel connection file not being a valid attribute.\n",
    "    # Passing explicit list to unittest.main will prevent IPython and Jupyter look at sys.argv.\n",
    "    # Passing exit=False will prevent unittest.main from shutting down the kernel process\n",
    "    unittest.main(argv=['first-arg-is-ignored'], exit=False)"
   ]
  },
  {
   "cell_type": "code",
   "execution_count": null,
   "metadata": {},
   "outputs": [],
   "source": []
  }
 ],
 "metadata": {
  "kernelspec": {
   "display_name": "Python 3",
   "language": "python",
   "name": "python3"
  },
  "language_info": {
   "codemirror_mode": {
    "name": "ipython",
    "version": 3
   },
   "file_extension": ".py",
   "mimetype": "text/x-python",
   "name": "python",
   "nbconvert_exporter": "python",
   "pygments_lexer": "ipython3",
   "version": "3.6.4"
  }
 },
 "nbformat": 4,
 "nbformat_minor": 2
}

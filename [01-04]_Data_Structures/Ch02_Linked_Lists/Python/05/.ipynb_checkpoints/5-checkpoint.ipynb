{
 "cells": [
  {
   "cell_type": "markdown",
   "metadata": {},
   "source": [
    "# Problem 5\n",
    "## Sum Lists\n",
    "\n",
    "> You have two numbers represented by a linked list, where each node contains a single digit. The digits are stored in reverse order, such that the 1's digit is at the head of the list. Write a function that adds the two numbers and returns the sum as a linked list.\n",
    "\n",
    "> EXAMPLE\n",
    "\n",
    "> Input:  (7 -> 1 -> 6) + (5 -> 9 -> 2). That is, 617 + 295\n",
    "\n",
    "> Output: 2 -> 1 -> 9. That is, 912.\n",
    "\n",
    "> FOLLOW UP\n",
    "\n",
    "> Suppose the digits are stored in forward order. Repeat the above problem.\n",
    "\n",
    "> EXAMPLE\n",
    "\n",
    "> Input:  (6 -> 1 -> 7) + (2 -> 9 -> 5). That is, 617 + 295.\n",
    "\n",
    "> Output: 9 -> 1 -> 2. That is, 912.\n",
    "\n",
    "Hints: #7, #30, #71, #95, #109 \n",
    "\n",
    "---\n",
    "\n",
    "**First Implementation**\n",
    "\n",
    "**Space and Runtime Complexity**:"
   ]
  },
  {
   "cell_type": "code",
   "execution_count": null,
   "metadata": {},
   "outputs": [],
   "source": [
    "def sumLists():\n",
    "    pass"
   ]
  },
  {
   "cell_type": "markdown",
   "metadata": {},
   "source": [
    "**Test Program**"
   ]
  },
  {
   "cell_type": "code",
   "execution_count": null,
   "metadata": {},
   "outputs": [],
   "source": [
    "import unittest\n",
    "\n",
    "class TestIsUniqueMethod(unittest.TestCase):\n",
    "\n",
    "    def test_simple_solution(self):\n",
    "        self.assertEqual(partition())\n",
    "\n",
    "if __name__ == '__main__':\n",
    "    # Need to add this parameter to the unittest.main function when unittesting in iPython because:\n",
    "    # unittest.main looks at sys.argv and first parameter is what started IPython or Jupyter, \n",
    "    # therefore there'll be an error about kernel connection file not being a valid attribute.\n",
    "    # Passing explicit list to unittest.main will prevent IPython and Jupyter look at sys.argv.\n",
    "    # Passing exit=False will prevent unittest.main from shutting down the kernel process\n",
    "    unittest.main(argv=['first-arg-is-ignored'], exit=False)"
   ]
  }
 ],
 "metadata": {
  "kernelspec": {
   "display_name": "Python 3",
   "language": "python",
   "name": "python3"
  },
  "language_info": {
   "codemirror_mode": {
    "name": "ipython",
    "version": 3
   },
   "file_extension": ".py",
   "mimetype": "text/x-python",
   "name": "python",
   "nbconvert_exporter": "python",
   "pygments_lexer": "ipython3",
   "version": "3.6.4"
  }
 },
 "nbformat": 4,
 "nbformat_minor": 2
}

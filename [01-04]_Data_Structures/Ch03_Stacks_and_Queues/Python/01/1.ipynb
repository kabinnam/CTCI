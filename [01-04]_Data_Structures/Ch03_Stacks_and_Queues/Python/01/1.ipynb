{
 "cells": [
  {
   "cell_type": "code",
   "execution_count": 13,
   "metadata": {},
   "outputs": [],
   "source": [
    "# Three in One: Describe how you could use a single array to implement three stacks.\n",
    "#\n",
    "# Hints: #2, #12, #38, #58\n",
    "\n",
    "'''\n",
    "My Answer and Description:\n",
    "\n",
    "Allocate a single array of size 3. Each stack will have elements added \n",
    "corresponding to its current index + 3. So Stack 1 will have its first index at 0,\n",
    "Stack 2 will have its first index at 1, and Stack 3 will have its first index at 2. \n",
    "These indices will be tracked for each Stack, so we know where to 'pop()' elements from\n",
    "the array. Everytime we've added an element to a stack, and wish to add another element to that\n",
    "same stack, we must increase the array size by at least an extra 3 elements, so that\n",
    "once again we can add the next element to the stack. Thus the array must be at least,\n",
    "3 times the length of the largest stack.\n",
    "\n",
    "To pop() elements from the stack, we can use the index that we used to track the last\n",
    "item pushed to that stack. If that stack index was larger than the other two stacks,\n",
    "we could check if the array size is much larger than necessary, and we can garbage collect,\n",
    "by cutting down the allocation of space for the array, this will take O(N) time, but will help\n",
    "to reduce space usage.\n",
    "'''\n",
    "\n",
    "# Personal TODO: Try to implement this."
   ]
  },
  {
   "cell_type": "code",
   "execution_count": 1,
   "metadata": {},
   "outputs": [
    {
     "name": "stderr",
     "output_type": "stream",
     "text": [
      "..\n",
      "----------------------------------------------------------------------\n",
      "Ran 2 tests in 0.005s\n",
      "\n",
      "OK\n"
     ]
    }
   ],
   "source": [
    "# Test Program to cover and check as many cases as possible, that would be\n",
    "# reasonable to check within an interview.\n",
    "import unittest\n",
    "\n",
    "class TestIsUniqueMethod(unittest.TestCase):\n",
    "\n",
    "    def test_simple_solution(self):\n",
    "        pass\n",
    "\n",
    "    def test_better_solution(self):\n",
    "        pass\n",
    "\n",
    "if __name__ == '__main__':\n",
    "    # Need to add this parameter to the unittest.main function when unittesting in iPython because:\n",
    "    # unittest.main looks at sys.argv and first parameter is what started IPython or Jupyter, \n",
    "    # therefore there'll be an error about kernel connection file not being a valid attribute.\n",
    "    # Passing explicit list to unittest.main will prevent IPython and Jupyter look at sys.argv.\n",
    "    # Passing exit=False will prevent unittest.main from shutting down the kernel process\n",
    "    unittest.main(argv=['first-arg-is-ignored'], exit=False)"
   ]
  },
  {
   "cell_type": "code",
   "execution_count": null,
   "metadata": {},
   "outputs": [],
   "source": []
  }
 ],
 "metadata": {
  "kernelspec": {
   "display_name": "Python 3",
   "language": "python",
   "name": "python3"
  },
  "language_info": {
   "codemirror_mode": {
    "name": "ipython",
    "version": 3
   },
   "file_extension": ".py",
   "mimetype": "text/x-python",
   "name": "python",
   "nbconvert_exporter": "python",
   "pygments_lexer": "ipython3",
   "version": "3.6.4"
  }
 },
 "nbformat": 4,
 "nbformat_minor": 2
}

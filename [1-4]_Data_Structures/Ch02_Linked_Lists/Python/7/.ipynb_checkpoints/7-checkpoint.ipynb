{
 "cells": [
  {
   "cell_type": "code",
   "execution_count": 1,
   "metadata": {},
   "outputs": [],
   "source": [
    "# Intersection: Given two (singly) linked lists, determine if the two lists intersect. \n",
    "# Return the intersecting node. Note that the intersection is defined based on the \n",
    "# reference, not value.That is, if the kth node of the first linked list is the exact\n",
    "# same node (by reference) as the jth node of the second linked list, then they are\n",
    "# intersecting.\n",
    "# \n",
    "# Hints: #20, #45, #55, #65, #76, #93, #111, #120, #129\n",
    "\n",
    "\n"
   ]
  },
  {
   "cell_type": "code",
   "execution_count": null,
   "metadata": {},
   "outputs": [],
   "source": [
    "# Test Program to cover and check as many cases as possible, that would be\n",
    "# reasonable to check within an interview.\n",
    "\n"
   ]
  }
 ],
 "metadata": {
  "kernelspec": {
   "display_name": "Python 3",
   "language": "python",
   "name": "python3"
  },
  "language_info": {
   "codemirror_mode": {
    "name": "ipython",
    "version": 3
   },
   "file_extension": ".py",
   "mimetype": "text/x-python",
   "name": "python",
   "nbconvert_exporter": "python",
   "pygments_lexer": "ipython3",
   "version": "3.6.4"
  }
 },
 "nbformat": 4,
 "nbformat_minor": 2
}

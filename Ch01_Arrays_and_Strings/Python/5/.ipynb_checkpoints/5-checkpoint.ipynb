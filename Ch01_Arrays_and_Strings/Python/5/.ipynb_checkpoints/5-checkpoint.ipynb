{
 "cells": [
  {
   "cell_type": "code",
   "execution_count": 1,
   "metadata": {},
   "outputs": [],
   "source": [
    "# One Away: There are three types of edits that can be performed on strings:\n",
    "# insert a character, remove a character, or replace a character. Given\n",
    "# two strings, write a function to check if they are one edit (or zero\n",
    "# edits) away.\n",
    "#\n",
    "# EXAMPLE\n",
    "# pale,  ple  -> true\n",
    "# pales, pale -> true\n",
    "# pale,  bale -> true\n",
    "# pale,  bake -> false\n",
    "# Hints: #23, #97, #130\n",
    "\n",
    "\n"
   ]
  },
  {
   "cell_type": "code",
   "execution_count": null,
   "metadata": {},
   "outputs": [],
   "source": [
    "# Test Program to cover and check as many cases as possible, that would be\n",
    "# reasonable to check within an interview.\n",
    "\n"
   ]
  }
 ],
 "metadata": {
  "kernelspec": {
   "display_name": "Python 3",
   "language": "python",
   "name": "python3"
  },
  "language_info": {
   "codemirror_mode": {
    "name": "ipython",
    "version": 3
   },
   "file_extension": ".py",
   "mimetype": "text/x-python",
   "name": "python",
   "nbconvert_exporter": "python",
   "pygments_lexer": "ipython3",
   "version": "3.6.4"
  }
 },
 "nbformat": 4,
 "nbformat_minor": 2
}

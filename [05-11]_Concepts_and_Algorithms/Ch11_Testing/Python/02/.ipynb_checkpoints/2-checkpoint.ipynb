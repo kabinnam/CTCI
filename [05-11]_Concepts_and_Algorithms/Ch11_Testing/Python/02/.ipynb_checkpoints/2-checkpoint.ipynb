{
 "cells": [
  {
   "cell_type": "code",
   "execution_count": 13,
   "metadata": {},
   "outputs": [],
   "source": [
    "# Random Crashes: You are given the source to an aplication which crashes when it is run. After\n",
    "# running it ten times in a debugger, you find it never crashes in the same place. The application\n",
    "# is single threaded, and uses only the C standard library. What programming errors could be causing\n",
    "# this crash? How would you test each one?\n",
    "#\n",
    "# Hints: #325"
   ]
  },
  {
   "cell_type": "code",
   "execution_count": null,
   "metadata": {},
   "outputs": [],
   "source": []
  }
 ],
 "metadata": {
  "kernelspec": {
   "display_name": "Python 3",
   "language": "python",
   "name": "python3"
  },
  "language_info": {
   "codemirror_mode": {
    "name": "ipython",
    "version": 3
   },
   "file_extension": ".py",
   "mimetype": "text/x-python",
   "name": "python",
   "nbconvert_exporter": "python",
   "pygments_lexer": "ipython3",
   "version": "3.6.4"
  }
 },
 "nbformat": 4,
 "nbformat_minor": 2
}

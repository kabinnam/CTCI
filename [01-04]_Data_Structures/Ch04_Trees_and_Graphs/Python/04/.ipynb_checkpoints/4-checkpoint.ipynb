{
 "cells": [
  {
   "cell_type": "code",
   "execution_count": 13,
   "metadata": {},
   "outputs": [],
   "source": [
    "# Check Balanced: Implement a function to check if a binary tree is balanced. For the purposes of\n",
    "# this question, a balanced tree is defined to be a tree such that the heights of the two subtrees\n",
    "# of any node never differ by more than one.\n",
    "#\n",
    "# Hints: #21, #33, #49, #105, #124\n",
    "        "
   ]
  },
  {
   "cell_type": "code",
   "execution_count": 14,
   "metadata": {},
   "outputs": [
    {
     "name": "stderr",
     "output_type": "stream",
     "text": [
      "..\n",
      "----------------------------------------------------------------------\n",
      "Ran 2 tests in 0.002s\n",
      "\n",
      "OK\n"
     ]
    }
   ],
   "source": [
    "# Test Program to cover and check as many cases as possible, that would be\n",
    "# reasonable to check within an interview.\n",
    "import unittest\n",
    "\n",
    "class TestIsUniqueMethod(unittest.TestCase):\n",
    "\n",
    "    def test_simple_solution(self):\n",
    "        pass\n",
    "\n",
    "if __name__ == '__main__':\n",
    "    # Need to add this parameter to the unittest.main function when unittesting in iPython because:\n",
    "    # unittest.main looks at sys.argv and first parameter is what started IPython or Jupyter, \n",
    "    # therefore there'll be an error about kernel connection file not being a valid attribute.\n",
    "    # Passing explicit list to unittest.main will prevent IPython and Jupyter look at sys.argv.\n",
    "    # Passing exit=False will prevent unittest.main from shutting down the kernel process\n",
    "    unittest.main(argv=['first-arg-is-ignored'], exit=False)"
   ]
  },
  {
   "cell_type": "code",
   "execution_count": null,
   "metadata": {},
   "outputs": [],
   "source": []
  }
 ],
 "metadata": {
  "kernelspec": {
   "display_name": "Python 3",
   "language": "python",
   "name": "python3"
  },
  "language_info": {
   "codemirror_mode": {
    "name": "ipython",
    "version": 3
   },
   "file_extension": ".py",
   "mimetype": "text/x-python",
   "name": "python",
   "nbconvert_exporter": "python",
   "pygments_lexer": "ipython3",
   "version": "3.6.4"
  }
 },
 "nbformat": 4,
 "nbformat_minor": 2
}

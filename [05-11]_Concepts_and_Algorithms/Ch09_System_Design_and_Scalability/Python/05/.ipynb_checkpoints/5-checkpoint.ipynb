{
 "cells": [
  {
   "cell_type": "code",
   "execution_count": 13,
   "metadata": {},
   "outputs": [],
   "source": [
    "# Cache: Imagine a web server for a simplified search engine. This system has 100 machines to respond \n",
    "# to search queries, which may then call out using processSearch(string query) to another cluster of\n",
    "# machines to actually get the result. The machine which responds to a given query is chosen at random,\n",
    "# so you cannot guarantee that the same machine will always respond to the same request. The method \n",
    "# processSearch is very expensive. Design a caching mechanism for the most recent queries. Be sure to\n",
    "# explain how you would update the cache when data changes.\n",
    "#\n",
    "# Hints: #259, #274, #293, #311"
   ]
  },
  {
   "cell_type": "code",
   "execution_count": 14,
   "metadata": {},
   "outputs": [
    {
     "name": "stderr",
     "output_type": "stream",
     "text": [
      "..\n",
      "----------------------------------------------------------------------\n",
      "Ran 2 tests in 0.002s\n",
      "\n",
      "OK\n"
     ]
    }
   ],
   "source": [
    "# Test Program to cover and check as many cases as possible, that would be\n",
    "# reasonable to check within an interview.\n",
    "import unittest\n",
    "\n",
    "class TestIsUniqueMethod(unittest.TestCase):\n",
    "\n",
    "    def test_simple_solution(self):\n",
    "        pass\n",
    "        #self.assertTrue(isUnique_better(\"k\"))\n",
    "        #self.assertTrue(isUnique_better(\"hiya\"))\n",
    "        #self.assertTrue(isUnique_better(\"I'm Unique?\"))\n",
    "\n",
    "if __name__ == '__main__':\n",
    "    # Need to add this parameter to the unittest.main function when unittesting in iPython because:\n",
    "    # unittest.main looks at sys.argv and first parameter is what started IPython or Jupyter, \n",
    "    # therefore there'll be an error about kernel connection file not being a valid attribute.\n",
    "    # Passing explicit list to unittest.main will prevent IPython and Jupyter look at sys.argv.\n",
    "    # Passing exit=False will prevent unittest.main from shutting down the kernel process\n",
    "    unittest.main(argv=['first-arg-is-ignored'], exit=False)"
   ]
  },
  {
   "cell_type": "code",
   "execution_count": null,
   "metadata": {},
   "outputs": [],
   "source": []
  }
 ],
 "metadata": {
  "kernelspec": {
   "display_name": "Python 3",
   "language": "python",
   "name": "python3"
  },
  "language_info": {
   "codemirror_mode": {
    "name": "ipython",
    "version": 3
   },
   "file_extension": ".py",
   "mimetype": "text/x-python",
   "name": "python",
   "nbconvert_exporter": "python",
   "pygments_lexer": "ipython3",
   "version": "3.6.4"
  }
 },
 "nbformat": 4,
 "nbformat_minor": 2
}

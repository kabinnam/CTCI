{
 "cells": [
  {
   "cell_type": "code",
   "execution_count": 1,
   "metadata": {},
   "outputs": [],
   "source": [
    "# Palindrome Permutation: Given a string, write a function to check if\n",
    "# it is a permutation if it is a permutation of a palindrome. A\n",
    "# palindrome is a word or phrase that is the same forwards and backwards.\n",
    "# A permutation is a rearrangement of letters. The palindrome does not\n",
    "# need to be limited to just dictionary words.\n",
    "#\n",
    "# EXAMPLE\n",
    "# Input:    Tact Coa\n",
    "# Output:   True (permutations: \"taco cat\", \"atco cta\", etc.)\n",
    "# Hints: #106, #121, #134, #136\n",
    "\n",
    "\n"
   ]
  },
  {
   "cell_type": "code",
   "execution_count": null,
   "metadata": {},
   "outputs": [],
   "source": [
    "# Test Program to cover and check as many cases as possible, that would be\n",
    "# reasonable to check within an interview.\n",
    "\n",
    "\n"
   ]
  }
 ],
 "metadata": {
  "kernelspec": {
   "display_name": "Python 3",
   "language": "python",
   "name": "python3"
  },
  "language_info": {
   "codemirror_mode": {
    "name": "ipython",
    "version": 3
   },
   "file_extension": ".py",
   "mimetype": "text/x-python",
   "name": "python",
   "nbconvert_exporter": "python",
   "pygments_lexer": "ipython3",
   "version": "3.6.4"
  }
 },
 "nbformat": 4,
 "nbformat_minor": 2
}

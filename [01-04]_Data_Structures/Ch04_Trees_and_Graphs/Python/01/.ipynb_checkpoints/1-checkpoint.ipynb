{
 "cells": [
  {
   "cell_type": "markdown",
   "metadata": {},
   "source": [
    "# Problem 1\n",
    "## Route Between Nodes\n",
    "\n",
    "> Given a directed graph, design an algorithm to find out whether there is a route between two nodes.\n",
    "\n",
    "Hints: #127\n",
    "\n",
    "---\n",
    "\n",
    "Simple Graph implementation"
   ]
  },
  {
   "cell_type": "code",
   "execution_count": 8,
   "metadata": {},
   "outputs": [],
   "source": [
    "class Node(object):\n",
    "    def __init__(self, val=None, children=[]):\n",
    "        self.val = val\n",
    "        self.children = children\n",
    "        \n",
    "class DirectedGraph(object):\n",
    "    def __init__(self, nodes=[]):\n",
    "        self.nodes = nodes"
   ]
  },
  {
   "cell_type": "markdown",
   "metadata": {},
   "source": [
    "**First Attempt**\n",
    "\n",
    "**Space & Time Complexity**: **O(??)**"
   ]
  },
  {
   "cell_type": "code",
   "execution_count": 9,
   "metadata": {},
   "outputs": [],
   "source": [
    "import queue\n",
    "# Given Directed Graph g, determine if there's a route between Node 'a' and Node 'b'\n",
    "# Let's do BFS\n",
    "def isRoute(g, a, b):\n",
    "    # Trivial input\n",
    "    if a == b: \n",
    "        return True\n",
    "    \n",
    "    visited = set()\n",
    "    q = queue.Queue()\n",
    "    q.put(a)\n",
    "    \n",
    "    while not q.empty():\n",
    "        cur = q.get()\n",
    "        for c in cur.children:\n",
    "            if c == b:\n",
    "                return True\n",
    "            else:\n",
    "                q.put(c)\n",
    "    return False"
   ]
  },
  {
   "cell_type": "markdown",
   "metadata": {},
   "source": [
    "** Test Program **"
   ]
  },
  {
   "cell_type": "code",
   "execution_count": 11,
   "metadata": {},
   "outputs": [
    {
     "name": "stderr",
     "output_type": "stream",
     "text": [
      ".\n",
      "----------------------------------------------------------------------\n",
      "Ran 1 test in 0.002s\n",
      "\n",
      "OK\n"
     ]
    }
   ],
   "source": [
    "import unittest\n",
    "\n",
    "class TestIsUniqueMethod(unittest.TestCase):\n",
    "\n",
    "    def test_simple_solution(self):\n",
    "        \n",
    "        g = DirectedGraph()\n",
    "        end = Node('b')\n",
    "        mid = Node('c', [Node('z'), end, Node('x')])\n",
    "        start = Node('a', [mid, Node('y')])\n",
    "        \n",
    "        badEnd = Node('teehee')\n",
    "        \n",
    "        self.assertTrue(isRoute(g, start, end))\n",
    "        self.assertFalse(isRoute(g, start, badEnd))\n",
    "\n",
    "if __name__ == '__main__':\n",
    "    # Need to add this parameter to the unittest.main function when unittesting in iPython because:\n",
    "    # unittest.main looks at sys.argv and first parameter is what started IPython or Jupyter, \n",
    "    # therefore there'll be an error about kernel connection file not being a valid attribute.\n",
    "    # Passing explicit list to unittest.main will prevent IPython and Jupyter look at sys.argv.\n",
    "    # Passing exit=False will prevent unittest.main from shutting down the kernel process\n",
    "    unittest.main(argv=['first-arg-is-ignored'], exit=False)"
   ]
  },
  {
   "cell_type": "code",
   "execution_count": null,
   "metadata": {},
   "outputs": [],
   "source": []
  }
 ],
 "metadata": {
  "kernelspec": {
   "display_name": "Python 3",
   "language": "python",
   "name": "python3"
  },
  "language_info": {
   "codemirror_mode": {
    "name": "ipython",
    "version": 3
   },
   "file_extension": ".py",
   "mimetype": "text/x-python",
   "name": "python",
   "nbconvert_exporter": "python",
   "pygments_lexer": "ipython3",
   "version": "3.6.4"
  }
 },
 "nbformat": 4,
 "nbformat_minor": 2
}

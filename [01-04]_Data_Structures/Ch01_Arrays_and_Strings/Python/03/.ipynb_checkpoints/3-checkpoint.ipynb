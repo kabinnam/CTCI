{
 "cells": [
  {
   "cell_type": "markdown",
   "metadata": {},
   "source": [
    "#Problem 3\n",
    "##URLify\n",
    "> Write a method to replace all spaces in a string with '%20'. You may __assume that the string has sufficient space at the end__ to hold the additional characters, and that you are given the \"true\" length of the string. (Note: if implementing in Java, please use a character array so that you can perform this operation in place.)\n",
    "\n",
    ">EXAMPLE\n",
    "\n",
    ">Input:    \"Mr John Smith  \", 13\n",
    "\n",
    ">Output:   \"Mr%20John%20Smith\"\n",
    "\n",
    "Hints: #53, #118\n",
    "\n",
    "---\n",
    "\n",
    "**First Attempt**\n",
    "\n",
    "**Space and Time Complexity**: O(N) time, O(N) space"
   ]
  },
  {
   "cell_type": "code",
   "execution_count": 3,
   "metadata": {},
   "outputs": [],
   "source": [
    "def URLify(inputString, inputLength):\n",
    "    newString = \"\"\n",
    "    for i in range(inputLength):\n",
    "        if inputString[i] == \" \":\n",
    "            newString += \"%20\"\n",
    "        else:\n",
    "            newString += inputString[i]\n",
    "    return newString"
   ]
  },
  {
   "cell_type": "markdown",
   "metadata": {},
   "source": [
    "Forgot that the input string already had the extra space necessary already to add in the '%20'. This solution does things in place."
   ]
  },
  {
   "cell_type": "code",
   "execution_count": 15,
   "metadata": {},
   "outputs": [],
   "source": [
    "def URLify_better(inputString, inputLength):\n",
    "    # Count how many spaces there are, so we can determine the final length of this string\n",
    "    spaceCount = 0\n",
    "    for i in range(inputLength):\n",
    "        if inputString[i] == ' ':\n",
    "            spaceCount += 1\n",
    "    \n",
    "    # Work backwards on the inputString to add letters and '%20' where necessary\n",
    "    # For every space, we want to add 2 more spaces to make sure we can fit '%20'\n",
    "    index = inputLength + (spaceCount * 2)\n",
    "    inputString = list(inputString)\n",
    "    for i in range(inputLength - 1, -1, -1):\n",
    "        if inputString[i] == ' ':\n",
    "            inputString[index - 1] = '0'\n",
    "            inputString[index - 2] = '2'\n",
    "            inputString[index - 3] = '%'\n",
    "            index -= 3\n",
    "        else:\n",
    "            inputString[index - 1] = inputString[i]\n",
    "            index -= 1\n",
    "    return ''.join(inputString)"
   ]
  },
  {
   "cell_type": "markdown",
   "metadata": {},
   "source": [
    "**Test Program**"
   ]
  },
  {
   "cell_type": "code",
   "execution_count": 16,
   "metadata": {},
   "outputs": [
    {
     "name": "stderr",
     "output_type": "stream",
     "text": [
      "..\n",
      "----------------------------------------------------------------------\n",
      "Ran 2 tests in 0.003s\n",
      "\n",
      "OK\n"
     ]
    }
   ],
   "source": [
    "import unittest\n",
    "\n",
    "class TestIsUniqueMethod(unittest.TestCase):\n",
    "\n",
    "    def test_simple_solution(self):\n",
    "        self.assertEqual(URLify(\"test space\", 10), \"test%20space\")\n",
    "\n",
    "    def test_better_solution(self):\n",
    "        self.assertEqual(URLify_better(\"test space  \", 10), \"test%20space\")\n",
    "\n",
    "if __name__ == '__main__':\n",
    "    # Need to add this parameter to the unittest.main function when unittesting in iPython because:\n",
    "    # unittest.main looks at sys.argv and first parameter is what started IPython or Jupyter, \n",
    "    # therefore there'll be an error about kernel connection file not being a valid attribute.\n",
    "    # Passing explicit list to unittest.main will prevent IPython and Jupyter look at sys.argv.\n",
    "    # Passing exit=False will prevent unittest.main from shutting down the kernel process\n",
    "    unittest.main(argv=['first-arg-is-ignored'], exit=False)"
   ]
  },
  {
   "cell_type": "code",
   "execution_count": null,
   "metadata": {},
   "outputs": [],
   "source": []
  }
 ],
 "metadata": {
  "kernelspec": {
   "display_name": "Python 3",
   "language": "python",
   "name": "python3"
  },
  "language_info": {
   "codemirror_mode": {
    "name": "ipython",
    "version": 3
   },
   "file_extension": ".py",
   "mimetype": "text/x-python",
   "name": "python",
   "nbconvert_exporter": "python",
   "pygments_lexer": "ipython3",
   "version": "3.6.4"
  }
 },
 "nbformat": 4,
 "nbformat_minor": 2
}

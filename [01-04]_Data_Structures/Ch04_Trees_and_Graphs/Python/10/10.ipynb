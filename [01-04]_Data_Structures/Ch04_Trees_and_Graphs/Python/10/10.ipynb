{
 "cells": [
  {
   "cell_type": "code",
   "execution_count": 13,
   "metadata": {},
   "outputs": [],
   "source": [
    "# Check Subtree: T1 and T2 are two very large binary trees, with T1 much bigger than T2. Create an algorithm \n",
    "# to determine if T2 is a subtree of T1. \n",
    "# \n",
    "# A Tree T2 is a subtree of T1 if there exists a node n in T1 such that the subtree of n is identical to T2.\n",
    "# That is, if you cut off the tree at node n, the two trees would be identical.\n",
    "#\n",
    "# Hints: #4, #11, #18, #31, #37"
   ]
  },
  {
   "cell_type": "code",
   "execution_count": 14,
   "metadata": {},
   "outputs": [
    {
     "name": "stderr",
     "output_type": "stream",
     "text": [
      "..\n",
      "----------------------------------------------------------------------\n",
      "Ran 2 tests in 0.002s\n",
      "\n",
      "OK\n"
     ]
    }
   ],
   "source": [
    "# Test Program to cover and check as many cases as possible, that would be\n",
    "# reasonable to check within an interview.\n",
    "import unittest\n",
    "\n",
    "class TestIsUniqueMethod(unittest.TestCase):\n",
    "\n",
    "    def test_simple_solution(self):\n",
    "        pass\n",
    "        #self.assertTrue(isUnique_better(\"k\"))\n",
    "        #self.assertTrue(isUnique_better(\"hiya\"))\n",
    "        #self.assertTrue(isUnique_better(\"I'm Unique?\"))\n",
    "\n",
    "if __name__ == '__main__':\n",
    "    # Need to add this parameter to the unittest.main function when unittesting in iPython because:\n",
    "    # unittest.main looks at sys.argv and first parameter is what started IPython or Jupyter, \n",
    "    # therefore there'll be an error about kernel connection file not being a valid attribute.\n",
    "    # Passing explicit list to unittest.main will prevent IPython and Jupyter look at sys.argv.\n",
    "    # Passing exit=False will prevent unittest.main from shutting down the kernel process\n",
    "    unittest.main(argv=['first-arg-is-ignored'], exit=False)"
   ]
  },
  {
   "cell_type": "code",
   "execution_count": null,
   "metadata": {},
   "outputs": [],
   "source": []
  }
 ],
 "metadata": {
  "kernelspec": {
   "display_name": "Python 3",
   "language": "python",
   "name": "python3"
  },
  "language_info": {
   "codemirror_mode": {
    "name": "ipython",
    "version": 3
   },
   "file_extension": ".py",
   "mimetype": "text/x-python",
   "name": "python",
   "nbconvert_exporter": "python",
   "pygments_lexer": "ipython3",
   "version": "3.6.4"
  }
 },
 "nbformat": 4,
 "nbformat_minor": 2
}

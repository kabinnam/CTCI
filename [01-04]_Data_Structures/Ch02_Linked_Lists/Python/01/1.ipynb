{
 "cells": [
  {
   "cell_type": "markdown",
   "metadata": {},
   "source": [
    "# Problem 1\n",
    "## Remove Dups\n",
    "\n",
    "> Write code to remove duplicates from an unsorted linked list.\n",
    "\n",
    "> FOLLOW UP\n",
    "\n",
    "> How would you solve this problem if a temporary buffer is not allowed?\n",
    "\n",
    "Hints: #9, #40\n",
    "\n",
    "---\n",
    "\n",
    "### My implementation of singly linked list"
   ]
  },
  {
   "cell_type": "code",
   "execution_count": 8,
   "metadata": {},
   "outputs": [],
   "source": [
    "class Node:\n",
    "\n",
    "   def __init__(self,data,nextNode=None):\n",
    "       self.data = data\n",
    "       self.nextNode = nextNode\n",
    "\n",
    "   def getData(self):\n",
    "       return self.data\n",
    "\n",
    "   def setData(self,val):\n",
    "       self.data = val\n",
    "\n",
    "   def getNextNode(self):\n",
    "       return self.nextNode\n",
    "\n",
    "   def setNextNode(self,val):\n",
    "       self.nextNode = val\n",
    "\n",
    "class LinkedList:\n",
    "\n",
    "   def __init__(self,head = None):\n",
    "       self.head = head\n",
    "       self.size = 0\n",
    "\n",
    "   def getSize(self):\n",
    "       return self.size\n",
    "\n",
    "   def addNode(self,data):\n",
    "       newNode = Node(data,self.head)\n",
    "       self.head = newNode\n",
    "       self.size+=1\n",
    "       return True\n",
    "       \n",
    "   def printNode(self):\n",
    "       curr = self.head\n",
    "       while curr:\n",
    "           print(curr.data)\n",
    "           curr = curr.getNextNode()"
   ]
  },
  {
   "cell_type": "markdown",
   "metadata": {},
   "source": [
    "**First Attempt**\n",
    "\n",
    "**Space and Time Complexity**:"
   ]
  },
  {
   "cell_type": "code",
   "execution_count": 7,
   "metadata": {},
   "outputs": [],
   "source": [
    "def removeDups(unsorted):\n",
    "    unique = set()\n",
    "    cur_node = unsorted.head\n",
    "    \n",
    "    while cur_node != None:\n",
    "        if cur_node.getData() not in unique:\n",
    "            unique.add(cur_node.getData())\n",
    "        else:\n",
    "            \n",
    "            cur_node.setNextNode()\n",
    "        cur_node = cur_node.getNextNode()"
   ]
  },
  {
   "cell_type": "markdown",
   "metadata": {},
   "source": [
    "**Test Program**"
   ]
  },
  {
   "cell_type": "code",
   "execution_count": null,
   "metadata": {},
   "outputs": [],
   "source": [
    "import unittest\n",
    "\n",
    "class TestIsUniqueMethod(unittest.TestCase):\n",
    "\n",
    "    def test_simple_solution(self):\n",
    "        \n",
    "        self.assertEqual(removeDups())\n",
    "\n",
    "if __name__ == '__main__':\n",
    "    # Need to add this parameter to the unittest.main function when unittesting in iPython because:\n",
    "    # unittest.main looks at sys.argv and first parameter is what started IPython or Jupyter, \n",
    "    # therefore there'll be an error about kernel connection file not being a valid attribute.\n",
    "    # Passing explicit list to unittest.main will prevent IPython and Jupyter look at sys.argv.\n",
    "    # Passing exit=False will prevent unittest.main from shutting down the kernel process\n",
    "    unittest.main(argv=['first-arg-is-ignored'], exit=False)"
   ]
  }
 ],
 "metadata": {
  "kernelspec": {
   "display_name": "Python 3",
   "language": "python",
   "name": "python3"
  },
  "language_info": {
   "codemirror_mode": {
    "name": "ipython",
    "version": 3
   },
   "file_extension": ".py",
   "mimetype": "text/x-python",
   "name": "python",
   "nbconvert_exporter": "python",
   "pygments_lexer": "ipython3",
   "version": "3.6.4"
  }
 },
 "nbformat": 4,
 "nbformat_minor": 2
}

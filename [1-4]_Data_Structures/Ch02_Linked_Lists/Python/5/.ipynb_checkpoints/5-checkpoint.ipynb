{
 "cells": [
  {
   "cell_type": "code",
   "execution_count": 1,
   "metadata": {},
   "outputs": [],
   "source": [
    "# Sum Lists: You have two numbers represented by a linked list, where each node\n",
    "# contains a single digit. The digits are stored in reverse order, such that the\n",
    "# 1's digit is at the head of the list. Write a function that adds the two numbers\n",
    "# and returns the sum as a linked list.\n",
    "#\n",
    "# EXAMPLE\n",
    "# Input:  (7 -> 1 -> 6) + (5 -> 9 -> 2). That is, 617 + 295\n",
    "# Output: 2 -> 1 -> 9. That is, 912.\n",
    "#\n",
    "# FOLLOW UP\n",
    "# Suppose the digits are stored in forward order. Repeat the above problem.\n",
    "#\n",
    "# EXAMPLE\n",
    "# Input:  (6 -> 1 -> 7) + (2 -> 9 -> 5). That is, 617 + 295.\n",
    "# Output: 9 -> 1 -> 2. That is, 912.\n",
    "#\n",
    "# Hints: #7, #30, #71, #95, #109 \n",
    "\n",
    "\n"
   ]
  },
  {
   "cell_type": "code",
   "execution_count": null,
   "metadata": {},
   "outputs": [],
   "source": [
    "# Test Program to cover and check as many cases as possible, that would be\n",
    "# reasonable to check within an interview.\n",
    "\n"
   ]
  }
 ],
 "metadata": {
  "kernelspec": {
   "display_name": "Python 3",
   "language": "python",
   "name": "python3"
  },
  "language_info": {
   "codemirror_mode": {
    "name": "ipython",
    "version": 3
   },
   "file_extension": ".py",
   "mimetype": "text/x-python",
   "name": "python",
   "nbconvert_exporter": "python",
   "pygments_lexer": "ipython3",
   "version": "3.6.4"
  }
 },
 "nbformat": 4,
 "nbformat_minor": 2
}
